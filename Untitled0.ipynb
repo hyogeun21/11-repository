{
  "nbformat": 4,
  "nbformat_minor": 0,
  "metadata": {
    "colab": {
      "provenance": [],
      "authorship_tag": "ABX9TyNMp8/NlPgLRvRPXyPud6kP"
    },
    "kernelspec": {
      "name": "python3",
      "display_name": "Python 3"
    },
    "language_info": {
      "name": "python"
    }
  },
  "cells": [
    {
      "cell_type": "code",
      "execution_count": 4,
      "metadata": {
        "colab": {
          "base_uri": "https://localhost:8080/"
        },
        "id": "GWRZ3S_5ZFlz",
        "outputId": "062f8693-f75e-4c8c-cf9e-8940201fdc23"
      },
      "outputs": [
        {
          "output_type": "stream",
          "name": "stdout",
          "text": [
            "Mounted at /gdrive\n"
          ]
        }
      ],
      "source": [
        "from google.colab import drive\n",
        "drive.mount('/gdrive', force_remount=True)\n",
        "with open('/gdrive/My Drive/test.txt', 'w') as f:\n",
        "  f.writelines(\"Hello Google Colab!\")"
      ]
    }
  ]
}